{
 "cells": [
  {
   "cell_type": "code",
   "execution_count": 37,
   "metadata": {},
   "outputs": [],
   "source": [
    "## Import all the necessary packages\n",
    "\n",
    "import random\n",
    "\n",
    "from googlesearch import search \n",
    "\n",
    "import pandas as pd\n",
    "\n",
    "import requests\n",
    "\n",
    "from bs4 import BeautifulSoup\n",
    "\n",
    "import re\n"
   ]
  },
  {
   "cell_type": "code",
   "execution_count": null,
   "metadata": {},
   "outputs": [],
   "source": [
    "## RUN ONLY THE FIRST TIME"
   ]
  },
  {
   "cell_type": "code",
   "execution_count": 40,
   "metadata": {},
   "outputs": [
    {
     "name": "stdout",
     "output_type": "stream",
     "text": [
      "We have: 25 categories\n",
      "Example of categories:  ['Culture_and_the_arts', 'Geography_and_places', 'Health_and_fitness', 'History_and_events', 'Human_activities']\n"
     ]
    }
   ],
   "source": [
    "## Scrape Wikipedia to create a library of themes \n",
    "\n",
    "# Get the url of the webpage contening the list of macro categories under Human A \n",
    "macro_url = requests.get('https://en.wikipedia.org/w/index.php?title=Portal:Contents/Categories&action=info').text\n",
    "\n",
    "# Process the content of the page\n",
    "macro_soup = BeautifulSoup(macro_url,'lxml')\n",
    "\n",
    "# Create an empty list to store all categories\n",
    "macro_category = []\n",
    "\n",
    "# All of the macro categories were in a '<li>' brackets\n",
    "for i in macro_soup.find_all(name = 'li'):\n",
    "    # pull the actual category for each one \n",
    "    for link in i.find_all('a', href=True):\n",
    "        macro_category.append(link['href'])\n",
    "\n",
    "# Selecting only the category names\n",
    "macro_category = [re.sub('/wiki/Portal:Contents/Categories/', '', cat) for cat in macro_category if '/wiki/Portal' in str(cat)]\n",
    "\n",
    "print('We have: {} categories'.format(len(macro_category)))\n",
    "print('Example of categories: ', macro_category[:5])"
   ]
  },
  {
   "cell_type": "code",
   "execution_count": 69,
   "metadata": {
    "scrolled": true
   },
   "outputs": [
    {
     "name": "stdout",
     "output_type": "stream",
     "text": [
      "We have 741 different categories from 25 themes\n"
     ]
    },
    {
     "data": {
      "text/html": [
       "<div>\n",
       "<style scoped>\n",
       "    .dataframe tbody tr th:only-of-type {\n",
       "        vertical-align: middle;\n",
       "    }\n",
       "\n",
       "    .dataframe tbody tr th {\n",
       "        vertical-align: top;\n",
       "    }\n",
       "\n",
       "    .dataframe thead th {\n",
       "        text-align: right;\n",
       "    }\n",
       "</style>\n",
       "<table border=\"1\" class=\"dataframe\">\n",
       "  <thead>\n",
       "    <tr style=\"text-align: right;\">\n",
       "      <th></th>\n",
       "      <th>categories</th>\n",
       "      <th>themes</th>\n",
       "    </tr>\n",
       "  </thead>\n",
       "  <tbody>\n",
       "    <tr>\n",
       "      <td>0</td>\n",
       "      <td>Culture</td>\n",
       "      <td>Culture and the arts</td>\n",
       "    </tr>\n",
       "    <tr>\n",
       "      <td>1</td>\n",
       "      <td>Humanities</td>\n",
       "      <td>Culture and the arts</td>\n",
       "    </tr>\n",
       "    <tr>\n",
       "      <td>2</td>\n",
       "      <td>Classical studies</td>\n",
       "      <td>Culture and the arts</td>\n",
       "    </tr>\n",
       "    <tr>\n",
       "      <td>3</td>\n",
       "      <td>Critical theory</td>\n",
       "      <td>Culture and the arts</td>\n",
       "    </tr>\n",
       "    <tr>\n",
       "      <td>4</td>\n",
       "      <td>Cultural anthropology</td>\n",
       "      <td>Culture and the arts</td>\n",
       "    </tr>\n",
       "  </tbody>\n",
       "</table>\n",
       "</div>"
      ],
      "text/plain": [
       "              categories                themes\n",
       "0                Culture  Culture and the arts\n",
       "1             Humanities  Culture and the arts\n",
       "2      Classical studies  Culture and the arts\n",
       "3        Critical theory  Culture and the arts\n",
       "4  Cultural anthropology  Culture and the arts"
      ]
     },
     "execution_count": 69,
     "metadata": {},
     "output_type": "execute_result"
    }
   ],
   "source": [
    "# Using the macro categories just compiled to scrape the subcategories on each individual page\n",
    "\n",
    "# Create an empty list to store all categories\n",
    "full_category = []\n",
    "\n",
    "# Create a loop to scrape each individual macro category page for subcategories  \n",
    "for cat in macro_category:\n",
    "    micro_url = requests.get('https://en.wikipedia.org/wiki/Portal:Contents/Categories/' + str(cat)).text\n",
    "    micro_soup = BeautifulSoup(micro_url,'lxml')\n",
    "    \n",
    "    micro_category = []\n",
    "    for i in micro_soup.find_all(name = 'li'):\n",
    "        for link in i.find_all('a', href=True):\n",
    "            micro_category.append(link['href'])\n",
    "            \n",
    "    # Selecting only the category names\n",
    "    df = [cat.split(':')[1] for cat in micro_category if cat.split(':')[0] == '/wiki/Category']\n",
    "        \n",
    "    full_category.append(df)\n",
    "    \n",
    "# Create the final dataframe\n",
    "\n",
    "# Create an empty list to store micro and macro category pairs\n",
    "categories = []\n",
    "for i in range(len(full_category)):\n",
    "    for j in range(len(full_category[i])):\n",
    "        # Compiling the pairs and cleaning the text\n",
    "        cat = list([full_category[i][j].replace('_', ' '), macro_category[i].replace('_', ' ')])\n",
    "        categories.append(cat)\n",
    "\n",
    "# Create a dataframe and drop eventual duplicates\n",
    "themes_df = pd.DataFrame(themes, columns=['categories', 'themes'])\n",
    "themes_df = themes_df.drop_duplicates()\n",
    "\n",
    "# Print some information\n",
    "print('We have {} different categories from {} themes'.format(themes_df.shape[0], len(macro_category)))\n",
    "\n",
    "themes_df.head()"
   ]
  },
  {
   "cell_type": "code",
   "execution_count": 70,
   "metadata": {},
   "outputs": [],
   "source": [
    "# Save the dataframe for later use\n",
    "themes_df.to_csv('D:\\Projects\\Mind_Expander\\data_themes.csv')"
   ]
  },
  {
   "cell_type": "code",
   "execution_count": 68,
   "metadata": {},
   "outputs": [],
   "source": [
    "# Create a feedback dataframe for later use\n",
    "general_history = pd.DataFrame(columns=['date','article', 'grade', 'category', 'themes'])\n",
    "general_history.to_csv('D:\\Projects\\Mind_Expander\\data_feedback.csv')"
   ]
  }
 ],
 "metadata": {
  "kernelspec": {
   "display_name": "Python 3",
   "language": "python",
   "name": "python3"
  },
  "language_info": {
   "codemirror_mode": {
    "name": "ipython",
    "version": 3
   },
   "file_extension": ".py",
   "mimetype": "text/x-python",
   "name": "python",
   "nbconvert_exporter": "python",
   "pygments_lexer": "ipython3",
   "version": "3.7.3"
  }
 },
 "nbformat": 4,
 "nbformat_minor": 2
}
