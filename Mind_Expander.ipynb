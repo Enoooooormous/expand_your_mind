{
 "cells": [
  {
   "cell_type": "code",
   "execution_count": null,
   "metadata": {},
   "outputs": [],
   "source": [
    "## Import all the necessary packages\n",
    "\n",
    "import random\n",
    "\n",
    "from googlesearch import search \n",
    "\n",
    "import pandas as pd\n",
    "\n",
    "import requests\n",
    "\n",
    "from bs4 import BeautifulSoup\n",
    "\n",
    "import re\n",
    "\n",
    "from datetime import date\n",
    "\n"
   ]
  },
  {
   "cell_type": "code",
   "execution_count": null,
   "metadata": {},
   "outputs": [],
   "source": [
    "## RUN EVERY DAY"
   ]
  },
  {
   "cell_type": "code",
   "execution_count": null,
   "metadata": {},
   "outputs": [],
   "source": [
    "## Upload the data\n",
    "\n",
    "themes_df = pd.read_csv('D:\\Projects\\Mind_Expander\\data_themes.csv', index_col=0)\n",
    "print(themes_df.head())\n",
    "print(themes_df.shape)\n",
    "\n",
    "general_history = pd.read_csv('D:\\Projects\\Mind_Expander\\data_feedback.csv', index_col=0)\n",
    "print(general_history.head())"
   ]
  },
  {
   "cell_type": "code",
   "execution_count": null,
   "metadata": {},
   "outputs": [],
   "source": [
    "## Customization by the reader\n",
    "\n",
    "num_subjects = int(input('How many new subject do you want to discover today? '))\n",
    "num_articles = int(input('How many articles do you want to read about each subject? '))\n",
    "freshness = input('What is your timeline of investigation? M for month or Y for year ')\n",
    "tbs = ['qdr:y' if temp == 'Y' else 'qdr:m' for temp in freshness]"
   ]
  },
  {
   "cell_type": "code",
   "execution_count": null,
   "metadata": {},
   "outputs": [],
   "source": [
    "## Select the category of the day\n",
    "\n",
    "\n",
    "# Generate the number of subject the reader specified (in two steps)\n",
    "\n",
    "# First, select the theme of the day (some themes have more categories)\n",
    "themes_of_day = []\n",
    "\n",
    "# Loop to generate different themes (if reader specified more than one subject)\n",
    "for i in range(0,num_subjects):\n",
    "    theme_int = random.randint(0,len(themes_df.themes.unique())-1)\n",
    "    theme_name = themes_df.themes.unique()[theme_int]\n",
    "    themes_of_day.append(theme_name)\n",
    "\n",
    "\n",
    "# Second, select the category of the day \n",
    "categories_of_day = []\n",
    "\n",
    "# Loop to generate different categories (if reader specified more than one subject)\n",
    "for theme in themes_of_day:\n",
    "    category_int = random.randint(0,len(themes_df[themes_df.themes == theme])-1)\n",
    "    category_name = themes_df[themes_df.themes == theme].categories.iloc[category_int]\n",
    "    categories_of_day.append(category_name)\n",
    "\n",
    "\n",
    "## Create the query\n",
    "read_of_day = []\n",
    "\n",
    "for i in range(len(categories_of_day)):\n",
    "    query_google = 'help me understand ' + str(categories_of_day[i]) + ' with an article'\n",
    "  \n",
    "    for article in search(query_google, tld=\"com\", lang='en', tbs=tbs, start= 0, stop=num_articles, pause=15, tpe='nws'):\n",
    "        print('For {}, please read: {}'.format(categories_of_day[i], article))    \n",
    "        read_of_day.append(article)\n",
    "        \n"
   ]
  },
  {
   "cell_type": "code",
   "execution_count": null,
   "metadata": {},
   "outputs": [],
   "source": [
    "## Generate feedback on the articles\n",
    "\n",
    "grades = []\n",
    "\n",
    "for art in read_of_day:\n",
    "    grade = int(input('How would you rate the article (over 10)? '))\n",
    "    grades.append(grade)\n",
    "    \n",
    "## Organize the feedback in a dataframe\n",
    "\n",
    "# Keep track of meta data (date, theme and category)\n",
    "theme = []\n",
    "category = []\n",
    "dates = []\n",
    "\n",
    "for i in range(num_subjects):\n",
    "    for j in range(num_articles):\n",
    "        theme.append(themes_of_day[i])\n",
    "        category.append(categories_of_day[i])\n",
    "        dates.append(date.today())\n",
    "\n",
    "# Compile the dataframe\n",
    "history = pd.DataFrame(list(zip(dates, read_of_day, grades,category,theme)), \n",
    "                       columns=['date','article', 'grade', 'category', 'themes'])\n",
    "\n",
    "# Collect the category already read\n",
    "to_delete = category\n",
    "\n",
    "# Update the theme dataframe\n",
    "new_themes_df = themes_df\n",
    "for cat in to_delete:\n",
    "    new_themes_df = new_themes_df.drop(new_themes_df[new_themes_df.categories == cat].index)\n",
    "new_themes_df.to_csv('D:\\Projects\\Mind_Expander\\data_themes.csv')\n",
    "\n",
    "# Update the general feedback dataframe\n",
    "general_history = pd.concat([general_history, history])\n",
    "general_history.to_csv('D:\\Projects\\Mind_Expander\\data_feedback.csv')\n"
   ]
  },
  {
   "cell_type": "code",
   "execution_count": null,
   "metadata": {},
   "outputs": [],
   "source": []
  },
  {
   "cell_type": "code",
   "execution_count": null,
   "metadata": {},
   "outputs": [],
   "source": []
  }
 ],
 "metadata": {
  "kernelspec": {
   "display_name": "Python 3",
   "language": "python",
   "name": "python3"
  },
  "language_info": {
   "codemirror_mode": {
    "name": "ipython",
    "version": 3
   },
   "file_extension": ".py",
   "mimetype": "text/x-python",
   "name": "python",
   "nbconvert_exporter": "python",
   "pygments_lexer": "ipython3",
   "version": "3.7.3"
  }
 },
 "nbformat": 4,
 "nbformat_minor": 2
}
